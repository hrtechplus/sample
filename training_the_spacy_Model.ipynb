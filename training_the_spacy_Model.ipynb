{
  "nbformat": 4,
  "nbformat_minor": 0,
  "metadata": {
    "colab": {
      "provenance": [],
      "authorship_tag": "ABX9TyO5kW1OfyvWDTPj2FfZHC3v",
      "include_colab_link": true
    },
    "kernelspec": {
      "name": "python3",
      "display_name": "Python 3"
    },
    "language_info": {
      "name": "python"
    }
  },
  "cells": [
    {
      "cell_type": "markdown",
      "metadata": {
        "id": "view-in-github",
        "colab_type": "text"
      },
      "source": [
        "<a href=\"https://colab.research.google.com/github/hrtechplus/sample/blob/main/training_the_spacy_Model.ipynb\" target=\"_parent\"><img src=\"https://colab.research.google.com/assets/colab-badge.svg\" alt=\"Open In Colab\"/></a>"
      ]
    },
    {
      "cell_type": "code",
      "execution_count": 32,
      "metadata": {
        "colab": {
          "base_uri": "https://localhost:8080/"
        },
        "id": "rRA9JTC2uvo7",
        "outputId": "fcbd4910-e1ab-48fd-8eab-07632f11da7e"
      },
      "outputs": [
        {
          "output_type": "stream",
          "name": "stdout",
          "text": [
            "Requirement already satisfied: spacy==3.5.3 in /usr/local/lib/python3.11/dist-packages (3.5.3)\n",
            "Requirement already satisfied: spacy-legacy<3.1.0,>=3.0.11 in /usr/local/lib/python3.11/dist-packages (from spacy==3.5.3) (3.0.12)\n",
            "Requirement already satisfied: spacy-loggers<2.0.0,>=1.0.0 in /usr/local/lib/python3.11/dist-packages (from spacy==3.5.3) (1.0.5)\n",
            "Requirement already satisfied: murmurhash<1.1.0,>=0.28.0 in /usr/local/lib/python3.11/dist-packages (from spacy==3.5.3) (1.0.12)\n",
            "Requirement already satisfied: cymem<2.1.0,>=2.0.2 in /usr/local/lib/python3.11/dist-packages (from spacy==3.5.3) (2.0.11)\n",
            "Requirement already satisfied: preshed<3.1.0,>=3.0.2 in /usr/local/lib/python3.11/dist-packages (from spacy==3.5.3) (3.0.9)\n",
            "Requirement already satisfied: thinc<8.2.0,>=8.1.8 in /usr/local/lib/python3.11/dist-packages (from spacy==3.5.3) (8.1.12)\n",
            "Requirement already satisfied: wasabi<1.2.0,>=0.9.1 in /usr/local/lib/python3.11/dist-packages (from spacy==3.5.3) (1.1.3)\n",
            "Requirement already satisfied: srsly<3.0.0,>=2.4.3 in /usr/local/lib/python3.11/dist-packages (from spacy==3.5.3) (2.5.1)\n",
            "Requirement already satisfied: catalogue<2.1.0,>=2.0.6 in /usr/local/lib/python3.11/dist-packages (from spacy==3.5.3) (2.0.10)\n",
            "Requirement already satisfied: typer<0.8.0,>=0.3.0 in /usr/local/lib/python3.11/dist-packages (from spacy==3.5.3) (0.7.0)\n",
            "Requirement already satisfied: pathy>=0.10.0 in /usr/local/lib/python3.11/dist-packages (from spacy==3.5.3) (0.11.0)\n",
            "Requirement already satisfied: smart-open<7.0.0,>=5.2.1 in /usr/local/lib/python3.11/dist-packages (from spacy==3.5.3) (6.4.0)\n",
            "Requirement already satisfied: tqdm<5.0.0,>=4.38.0 in /usr/local/lib/python3.11/dist-packages (from spacy==3.5.3) (4.67.1)\n",
            "Requirement already satisfied: numpy>=1.15.0 in /usr/local/lib/python3.11/dist-packages (from spacy==3.5.3) (1.26.4)\n",
            "Requirement already satisfied: requests<3.0.0,>=2.13.0 in /usr/local/lib/python3.11/dist-packages (from spacy==3.5.3) (2.32.3)\n",
            "Requirement already satisfied: pydantic!=1.8,!=1.8.1,<1.11.0,>=1.7.4 in /usr/local/lib/python3.11/dist-packages (from spacy==3.5.3) (1.10.21)\n",
            "Requirement already satisfied: jinja2 in /usr/local/lib/python3.11/dist-packages (from spacy==3.5.3) (3.1.5)\n",
            "Requirement already satisfied: setuptools in /usr/local/lib/python3.11/dist-packages (from spacy==3.5.3) (75.1.0)\n",
            "Requirement already satisfied: packaging>=20.0 in /usr/local/lib/python3.11/dist-packages (from spacy==3.5.3) (24.2)\n",
            "Requirement already satisfied: langcodes<4.0.0,>=3.2.0 in /usr/local/lib/python3.11/dist-packages (from spacy==3.5.3) (3.5.0)\n",
            "Requirement already satisfied: language-data>=1.2 in /usr/local/lib/python3.11/dist-packages (from langcodes<4.0.0,>=3.2.0->spacy==3.5.3) (1.3.0)\n",
            "Requirement already satisfied: pathlib-abc==0.1.1 in /usr/local/lib/python3.11/dist-packages (from pathy>=0.10.0->spacy==3.5.3) (0.1.1)\n",
            "Requirement already satisfied: typing-extensions>=4.2.0 in /usr/local/lib/python3.11/dist-packages (from pydantic!=1.8,!=1.8.1,<1.11.0,>=1.7.4->spacy==3.5.3) (4.12.2)\n",
            "Requirement already satisfied: charset-normalizer<4,>=2 in /usr/local/lib/python3.11/dist-packages (from requests<3.0.0,>=2.13.0->spacy==3.5.3) (3.4.1)\n",
            "Requirement already satisfied: idna<4,>=2.5 in /usr/local/lib/python3.11/dist-packages (from requests<3.0.0,>=2.13.0->spacy==3.5.3) (3.10)\n",
            "Requirement already satisfied: urllib3<3,>=1.21.1 in /usr/local/lib/python3.11/dist-packages (from requests<3.0.0,>=2.13.0->spacy==3.5.3) (2.3.0)\n",
            "Requirement already satisfied: certifi>=2017.4.17 in /usr/local/lib/python3.11/dist-packages (from requests<3.0.0,>=2.13.0->spacy==3.5.3) (2024.12.14)\n",
            "Requirement already satisfied: blis<0.8.0,>=0.7.8 in /usr/local/lib/python3.11/dist-packages (from thinc<8.2.0,>=8.1.8->spacy==3.5.3) (0.7.11)\n",
            "Requirement already satisfied: confection<1.0.0,>=0.0.1 in /usr/local/lib/python3.11/dist-packages (from thinc<8.2.0,>=8.1.8->spacy==3.5.3) (0.1.5)\n",
            "Requirement already satisfied: click<9.0.0,>=7.1.1 in /usr/local/lib/python3.11/dist-packages (from typer<0.8.0,>=0.3.0->spacy==3.5.3) (8.1.8)\n",
            "Requirement already satisfied: MarkupSafe>=2.0 in /usr/local/lib/python3.11/dist-packages (from jinja2->spacy==3.5.3) (3.0.2)\n",
            "Requirement already satisfied: marisa-trie>=1.1.0 in /usr/local/lib/python3.11/dist-packages (from language-data>=1.2->langcodes<4.0.0,>=3.2.0->spacy==3.5.3) (1.2.1)\n"
          ]
        }
      ],
      "source": [
        "!pip install spacy==3.5.3\n"
      ]
    },
    {
      "cell_type": "code",
      "source": [
        "pip install --upgrade spacy\n"
      ],
      "metadata": {
        "colab": {
          "base_uri": "https://localhost:8080/"
        },
        "id": "M7KgMfAFzc6F",
        "outputId": "d08fe175-22f7-4e3c-e6bf-dd8eb8062962"
      },
      "execution_count": 2,
      "outputs": [
        {
          "output_type": "stream",
          "name": "stdout",
          "text": [
            "Requirement already satisfied: spacy in /usr/local/lib/python3.11/dist-packages (3.5.3)\n",
            "Collecting spacy\n",
            "  Downloading spacy-3.8.4-cp311-cp311-manylinux_2_17_x86_64.manylinux2014_x86_64.whl.metadata (27 kB)\n",
            "Requirement already satisfied: spacy-legacy<3.1.0,>=3.0.11 in /usr/local/lib/python3.11/dist-packages (from spacy) (3.0.12)\n",
            "Requirement already satisfied: spacy-loggers<2.0.0,>=1.0.0 in /usr/local/lib/python3.11/dist-packages (from spacy) (1.0.5)\n",
            "Requirement already satisfied: murmurhash<1.1.0,>=0.28.0 in /usr/local/lib/python3.11/dist-packages (from spacy) (1.0.12)\n",
            "Requirement already satisfied: cymem<2.1.0,>=2.0.2 in /usr/local/lib/python3.11/dist-packages (from spacy) (2.0.11)\n",
            "Requirement already satisfied: preshed<3.1.0,>=3.0.2 in /usr/local/lib/python3.11/dist-packages (from spacy) (3.0.9)\n",
            "Collecting thinc<8.4.0,>=8.3.4 (from spacy)\n",
            "  Downloading thinc-8.3.4-cp311-cp311-manylinux_2_17_x86_64.manylinux2014_x86_64.whl.metadata (15 kB)\n",
            "Requirement already satisfied: wasabi<1.2.0,>=0.9.1 in /usr/local/lib/python3.11/dist-packages (from spacy) (1.1.3)\n",
            "Requirement already satisfied: srsly<3.0.0,>=2.4.3 in /usr/local/lib/python3.11/dist-packages (from spacy) (2.5.1)\n",
            "Requirement already satisfied: catalogue<2.1.0,>=2.0.6 in /usr/local/lib/python3.11/dist-packages (from spacy) (2.0.10)\n",
            "Requirement already satisfied: weasel<0.5.0,>=0.1.0 in /usr/local/lib/python3.11/dist-packages (from spacy) (0.4.1)\n",
            "Requirement already satisfied: typer<1.0.0,>=0.3.0 in /usr/local/lib/python3.11/dist-packages (from spacy) (0.7.0)\n",
            "Requirement already satisfied: tqdm<5.0.0,>=4.38.0 in /usr/local/lib/python3.11/dist-packages (from spacy) (4.67.1)\n",
            "Requirement already satisfied: numpy>=1.19.0 in /usr/local/lib/python3.11/dist-packages (from spacy) (1.26.4)\n",
            "Requirement already satisfied: requests<3.0.0,>=2.13.0 in /usr/local/lib/python3.11/dist-packages (from spacy) (2.32.3)\n",
            "Requirement already satisfied: pydantic!=1.8,!=1.8.1,<3.0.0,>=1.7.4 in /usr/local/lib/python3.11/dist-packages (from spacy) (1.10.21)\n",
            "Requirement already satisfied: jinja2 in /usr/local/lib/python3.11/dist-packages (from spacy) (3.1.5)\n",
            "Requirement already satisfied: setuptools in /usr/local/lib/python3.11/dist-packages (from spacy) (75.1.0)\n",
            "Requirement already satisfied: packaging>=20.0 in /usr/local/lib/python3.11/dist-packages (from spacy) (24.2)\n",
            "Requirement already satisfied: langcodes<4.0.0,>=3.2.0 in /usr/local/lib/python3.11/dist-packages (from spacy) (3.5.0)\n",
            "Requirement already satisfied: language-data>=1.2 in /usr/local/lib/python3.11/dist-packages (from langcodes<4.0.0,>=3.2.0->spacy) (1.3.0)\n",
            "Requirement already satisfied: typing-extensions>=4.2.0 in /usr/local/lib/python3.11/dist-packages (from pydantic!=1.8,!=1.8.1,<3.0.0,>=1.7.4->spacy) (4.12.2)\n",
            "Requirement already satisfied: charset-normalizer<4,>=2 in /usr/local/lib/python3.11/dist-packages (from requests<3.0.0,>=2.13.0->spacy) (3.4.1)\n",
            "Requirement already satisfied: idna<4,>=2.5 in /usr/local/lib/python3.11/dist-packages (from requests<3.0.0,>=2.13.0->spacy) (3.10)\n",
            "Requirement already satisfied: urllib3<3,>=1.21.1 in /usr/local/lib/python3.11/dist-packages (from requests<3.0.0,>=2.13.0->spacy) (2.3.0)\n",
            "Requirement already satisfied: certifi>=2017.4.17 in /usr/local/lib/python3.11/dist-packages (from requests<3.0.0,>=2.13.0->spacy) (2024.12.14)\n",
            "Collecting blis<1.3.0,>=1.2.0 (from thinc<8.4.0,>=8.3.4->spacy)\n",
            "  Downloading blis-1.2.0-cp311-cp311-manylinux_2_17_x86_64.manylinux2014_x86_64.whl.metadata (7.7 kB)\n",
            "Requirement already satisfied: confection<1.0.0,>=0.0.1 in /usr/local/lib/python3.11/dist-packages (from thinc<8.4.0,>=8.3.4->spacy) (0.1.5)\n",
            "Requirement already satisfied: click<9.0.0,>=7.1.1 in /usr/local/lib/python3.11/dist-packages (from typer<1.0.0,>=0.3.0->spacy) (8.1.8)\n",
            "Requirement already satisfied: cloudpathlib<1.0.0,>=0.7.0 in /usr/local/lib/python3.11/dist-packages (from weasel<0.5.0,>=0.1.0->spacy) (0.20.0)\n",
            "Requirement already satisfied: smart-open<8.0.0,>=5.2.1 in /usr/local/lib/python3.11/dist-packages (from weasel<0.5.0,>=0.1.0->spacy) (6.4.0)\n",
            "Requirement already satisfied: MarkupSafe>=2.0 in /usr/local/lib/python3.11/dist-packages (from jinja2->spacy) (3.0.2)\n",
            "Requirement already satisfied: marisa-trie>=1.1.0 in /usr/local/lib/python3.11/dist-packages (from language-data>=1.2->langcodes<4.0.0,>=3.2.0->spacy) (1.2.1)\n",
            "Downloading spacy-3.8.4-cp311-cp311-manylinux_2_17_x86_64.manylinux2014_x86_64.whl (30.6 MB)\n",
            "\u001b[2K   \u001b[90m━━━━━━━━━━━━━━━━━━━━━━━━━━━━━━━━━━━━━━━━\u001b[0m \u001b[32m30.6/30.6 MB\u001b[0m \u001b[31m55.1 MB/s\u001b[0m eta \u001b[36m0:00:00\u001b[0m\n",
            "\u001b[?25hDownloading thinc-8.3.4-cp311-cp311-manylinux_2_17_x86_64.manylinux2014_x86_64.whl (3.9 MB)\n",
            "\u001b[2K   \u001b[90m━━━━━━━━━━━━━━━━━━━━━━━━━━━━━━━━━━━━━━━━\u001b[0m \u001b[32m3.9/3.9 MB\u001b[0m \u001b[31m88.1 MB/s\u001b[0m eta \u001b[36m0:00:00\u001b[0m\n",
            "\u001b[?25hDownloading blis-1.2.0-cp311-cp311-manylinux_2_17_x86_64.manylinux2014_x86_64.whl (11.7 MB)\n",
            "\u001b[2K   \u001b[90m━━━━━━━━━━━━━━━━━━━━━━━━━━━━━━━━━━━━━━━━\u001b[0m \u001b[32m11.7/11.7 MB\u001b[0m \u001b[31m91.2 MB/s\u001b[0m eta \u001b[36m0:00:00\u001b[0m\n",
            "\u001b[?25hInstalling collected packages: blis, thinc, spacy\n",
            "  Attempting uninstall: blis\n",
            "    Found existing installation: blis 0.7.11\n",
            "    Uninstalling blis-0.7.11:\n",
            "      Successfully uninstalled blis-0.7.11\n",
            "  Attempting uninstall: thinc\n",
            "    Found existing installation: thinc 8.1.12\n",
            "    Uninstalling thinc-8.1.12:\n",
            "      Successfully uninstalled thinc-8.1.12\n",
            "  Attempting uninstall: spacy\n",
            "    Found existing installation: spacy 3.5.3\n",
            "    Uninstalling spacy-3.5.3:\n",
            "      Successfully uninstalled spacy-3.5.3\n",
            "\u001b[31mERROR: pip's dependency resolver does not currently take into account all the packages that are installed. This behaviour is the source of the following dependency conflicts.\n",
            "en-core-web-sm 3.5.0 requires spacy<3.6.0,>=3.5.0, but you have spacy 3.8.4 which is incompatible.\u001b[0m\u001b[31m\n",
            "\u001b[0mSuccessfully installed blis-1.2.0 spacy-3.8.4 thinc-8.3.4\n"
          ]
        }
      ]
    },
    {
      "cell_type": "code",
      "source": [
        "pip install spacy-lookups-data\n"
      ],
      "metadata": {
        "colab": {
          "base_uri": "https://localhost:8080/"
        },
        "id": "HMv7cz9_z9UU",
        "outputId": "9cf0f301-1338-4919-f846-00f3a9723491"
      },
      "execution_count": 1,
      "outputs": [
        {
          "output_type": "stream",
          "name": "stdout",
          "text": [
            "Collecting spacy-lookups-data\n",
            "  Downloading spacy_lookups_data-1.0.5-py2.py3-none-any.whl.metadata (4.8 kB)\n",
            "Requirement already satisfied: setuptools in /usr/local/lib/python3.11/dist-packages (from spacy-lookups-data) (75.1.0)\n",
            "Downloading spacy_lookups_data-1.0.5-py2.py3-none-any.whl (98.5 MB)\n",
            "\u001b[2K   \u001b[90m━━━━━━━━━━━━━━━━━━━━━━━━━━━━━━━━━━━━━━━━\u001b[0m \u001b[32m98.5/98.5 MB\u001b[0m \u001b[31m6.4 MB/s\u001b[0m eta \u001b[36m0:00:00\u001b[0m\n",
            "\u001b[?25hInstalling collected packages: spacy-lookups-data\n",
            "Successfully installed spacy-lookups-data-1.0.5\n"
          ]
        }
      ]
    },
    {
      "cell_type": "code",
      "source": [
        "!python -m spacy validate"
      ],
      "metadata": {
        "colab": {
          "base_uri": "https://localhost:8080/"
        },
        "id": "cSune7xgWWv0",
        "outputId": "e9e88be2-4510-401c-b334-0d587d691045"
      },
      "execution_count": 33,
      "outputs": [
        {
          "output_type": "stream",
          "name": "stdout",
          "text": [
            "2025-01-26 08:44:03.883880: E external/local_xla/xla/stream_executor/cuda/cuda_fft.cc:485] Unable to register cuFFT factory: Attempting to register factory for plugin cuFFT when one has already been registered\n",
            "2025-01-26 08:44:03.917282: E external/local_xla/xla/stream_executor/cuda/cuda_dnn.cc:8454] Unable to register cuDNN factory: Attempting to register factory for plugin cuDNN when one has already been registered\n",
            "2025-01-26 08:44:03.927454: E external/local_xla/xla/stream_executor/cuda/cuda_blas.cc:1452] Unable to register cuBLAS factory: Attempting to register factory for plugin cuBLAS when one has already been registered\n",
            "2025-01-26 08:44:05.650550: W tensorflow/compiler/tf2tensorrt/utils/py_utils.cc:38] TF-TRT Warning: Could not find TensorRT\n",
            "\u001b[2K\u001b[38;5;2m✔ Loaded compatibility table\u001b[0m\n",
            "\u001b[1m\n",
            "================= Installed pipeline packages (spaCy v3.5.3) =================\u001b[0m\n",
            "\u001b[38;5;4mℹ spaCy installation: /usr/local/lib/python3.11/dist-packages/spacy\u001b[0m\n",
            "\n",
            "NAME             SPACY            VERSION                            \n",
            "en_core_web_sm   >=3.5.0,<3.6.0   \u001b[38;5;2m3.5.0\u001b[0m   \u001b[38;5;2m✔\u001b[0m\n",
            "\n"
          ]
        }
      ]
    },
    {
      "cell_type": "code",
      "source": [
        "!python -m spacy download en_core_web_sm\n"
      ],
      "metadata": {
        "colab": {
          "base_uri": "https://localhost:8080/"
        },
        "id": "E71yYHGcXPcz",
        "outputId": "49a21b1c-258f-4cf3-959c-efb7bed0c1ce"
      },
      "execution_count": 3,
      "outputs": [
        {
          "output_type": "stream",
          "name": "stdout",
          "text": [
            "Collecting en-core-web-sm==3.8.0\n",
            "  Downloading https://github.com/explosion/spacy-models/releases/download/en_core_web_sm-3.8.0/en_core_web_sm-3.8.0-py3-none-any.whl (12.8 MB)\n",
            "\u001b[2K     \u001b[90m━━━━━━━━━━━━━━━━━━━━━━━━━━━━━━━━━━━━━━━━\u001b[0m \u001b[32m12.8/12.8 MB\u001b[0m \u001b[31m47.7 MB/s\u001b[0m eta \u001b[36m0:00:00\u001b[0m\n",
            "\u001b[?25hInstalling collected packages: en-core-web-sm\n",
            "  Attempting uninstall: en-core-web-sm\n",
            "    Found existing installation: en-core-web-sm 3.5.0\n",
            "    Uninstalling en-core-web-sm-3.5.0:\n",
            "      Successfully uninstalled en-core-web-sm-3.5.0\n",
            "Successfully installed en-core-web-sm-3.8.0\n",
            "\u001b[38;5;2m✔ Download and installation successful\u001b[0m\n",
            "You can now load the package via spacy.load('en_core_web_sm')\n",
            "\u001b[38;5;3m⚠ Restart to reload dependencies\u001b[0m\n",
            "If you are in a Jupyter or Colab notebook, you may need to restart Python in\n",
            "order to load all the package's dependencies. You can do this by selecting the\n",
            "'Restart kernel' or 'Restart runtime' option.\n"
          ]
        }
      ]
    },
    {
      "cell_type": "markdown",
      "source": [
        "Working Data set training  - only single form"
      ],
      "metadata": {
        "id": "L64qt9bV2izw"
      }
    },
    {
      "cell_type": "code",
      "source": [
        "\n",
        "import spacy\n",
        "from spacy.training.example import Example\n",
        "import random\n",
        "import json\n",
        "\n",
        "# Load a blank English model with a config\n",
        "nlp = spacy.blank(\"en\")\n",
        "nlp.add_pipe(\"ner\")\n",
        "\n",
        "# Add the new labels to the NER pipe\n",
        "labels = [\"ORDER_NUMBER\", \"CUSTOMER_NAME\", \"STATUS\", \"TOTAL_AMOUNT\", \"CATEGORY\", \"PRODUCT_NAME\", \"STOCK_LEVEL\"]\n",
        "ner = nlp.get_pipe(\"ner\")  # Get the NER pipe\n",
        "for label in labels:\n",
        "    ner.add_label(label)\n",
        "\n",
        "# Load your training data\n",
        "with open(\"updated_training_data_format.json\", \"r\") as f:\n",
        "    TRAIN_DATA = json.load(f)\n",
        "\n",
        "# Prepare the training data for spaCy\n",
        "train_examples = []\n",
        "for entry in TRAIN_DATA:\n",
        "    text = entry[0]  # Extract text\n",
        "    annotations = entry[1]  # Extract annotations\n",
        "    doc = nlp.make_doc(text)  # Create a Doc object\n",
        "    try:\n",
        "        example = Example.from_dict(doc, annotations)\n",
        "        train_examples.append(example)\n",
        "    except ValueError as e:\n",
        "        print(f\"Skipping example: {text} due to error: {e}\")\n",
        "\n",
        "# Start the training loop\n",
        "nlp.initialize()  # Initialize the pipeline before training\n",
        "\n",
        "# Loop through the training data and update the model\n",
        "for epoch in range(30):  # Number of epochs, adjust as needed\n",
        "    random.shuffle(train_examples)\n",
        "    losses = {}\n",
        "    # Batch the examples and update the model\n",
        "    for batch in spacy.util.minibatch(train_examples, size=8):  # Adjust batch size as needed\n",
        "        nlp.update(batch, drop=0.5, losses=losses)  # Dropout for regularization\n",
        "    print(f\"Epoch {epoch}, Losses: {losses}\")\n",
        "# Save the trained model\n",
        "nlp.to_disk(\"trained_spacy_model_with_all_entities\")\n",
        "\n"
      ],
      "metadata": {
        "colab": {
          "base_uri": "https://localhost:8080/"
        },
        "id": "Yc_sB76Pu68b",
        "outputId": "10b68407-0c8f-4ae3-ee4f-681e6f3592ca"
      },
      "execution_count": 3,
      "outputs": [
        {
          "output_type": "stream",
          "name": "stdout",
          "text": [
            "Epoch 0, Losses: {'ner': 1278.2614458171229}\n",
            "Epoch 1, Losses: {'ner': 283.03383382268163}\n",
            "Epoch 2, Losses: {'ner': 55.760036261085645}\n",
            "Epoch 3, Losses: {'ner': 35.371331604682915}\n",
            "Epoch 4, Losses: {'ner': 14.626114862200009}\n",
            "Epoch 5, Losses: {'ner': 24.210669768905646}\n",
            "Epoch 6, Losses: {'ner': 12.325913082509361}\n",
            "Epoch 7, Losses: {'ner': 20.452155241916458}\n",
            "Epoch 8, Losses: {'ner': 11.137794055379064}\n",
            "Epoch 9, Losses: {'ner': 3.548137742198718}\n",
            "Epoch 10, Losses: {'ner': 9.534345697555217}\n",
            "Epoch 11, Losses: {'ner': 8.386024800372333}\n",
            "Epoch 12, Losses: {'ner': 2.4396776015094175}\n",
            "Epoch 13, Losses: {'ner': 16.41818087916556}\n",
            "Epoch 14, Losses: {'ner': 16.631243453082917}\n",
            "Epoch 15, Losses: {'ner': 11.690356485983129}\n",
            "Epoch 16, Losses: {'ner': 9.711229036808605}\n",
            "Epoch 17, Losses: {'ner': 6.085731740214576}\n",
            "Epoch 18, Losses: {'ner': 5.498750895367103}\n",
            "Epoch 19, Losses: {'ner': 6.24772724135789}\n",
            "Epoch 20, Losses: {'ner': 25.810767813359682}\n",
            "Epoch 21, Losses: {'ner': 14.621841438121818}\n",
            "Epoch 22, Losses: {'ner': 6.501671880692325}\n",
            "Epoch 23, Losses: {'ner': 3.733204254137215}\n",
            "Epoch 24, Losses: {'ner': 0.021718230483578085}\n",
            "Epoch 25, Losses: {'ner': 5.182208689449539}\n",
            "Epoch 26, Losses: {'ner': 11.066094436576572}\n",
            "Epoch 27, Losses: {'ner': 6.860297827694379}\n",
            "Epoch 28, Losses: {'ner': 21.764540538989092}\n",
            "Epoch 29, Losses: {'ner': 11.458059288680186}\n"
          ]
        }
      ]
    },
    {
      "cell_type": "markdown",
      "source": [
        "**Working Test Data**"
      ],
      "metadata": {
        "id": "GbNqoRB22RPY"
      }
    },
    {
      "cell_type": "code",
      "source": [
        "# Test the model (optional)\n",
        "test_text = \" John Doe Pending 250.00 Electronics Galaxy S25 Ultra 50 ORD12345\"\n",
        "doc = nlp(test_text)\n",
        "print(f\"Input Text: {test_text}\")\n",
        "print(\"-\" * 30)  # Separator for better visual distinction\n",
        "for ent in doc.ents:\n",
        "    print(\"{:<20} {:<15}\".format(ent.text, ent.label_))\n",
        "print(\"-\" * 30)"
      ],
      "metadata": {
        "colab": {
          "base_uri": "https://localhost:8080/"
        },
        "id": "Plg4J0UIxPXb",
        "outputId": "52f48090-63d9-4ddc-e189-f103cb14a9f5"
      },
      "execution_count": 6,
      "outputs": [
        {
          "output_type": "stream",
          "name": "stdout",
          "text": [
            "Input Text:  John Doe Pending 250.00 Electronics Galaxy S25 Ultra 50 ORD12345\n",
            "------------------------------\n",
            "John Doe             CUSTOMER_NAME  \n",
            "Pending              STATUS         \n",
            "250.00 Electronics   CUSTOMER_NAME  \n",
            "Galaxy S25 Ultra     PRODUCT_NAME   \n",
            "50                   STOCK_LEVEL    \n",
            "ORD12345             ORDER_NUMBER   \n",
            "------------------------------\n"
          ]
        }
      ]
    },
    {
      "cell_type": "code",
      "source": [
        "import spacy\n",
        "import random\n",
        "import json\n",
        "from spacy.training.example import Example\n",
        "from spacy.util import minibatch\n",
        "\n",
        "# Load a blank English model with a config\n",
        "nlp = spacy.blank(\"en\")\n",
        "\n",
        "# Add the NER pipeline\n",
        "ner = nlp.add_pipe(\"ner\")\n",
        "\n",
        "# Add the new labels to the NER pipe\n",
        "labels = [\"ORDER_NUMBER\", \"CUSTOMER_NAME\", \"STATUS\", \"TOTAL_AMOUNT\", \"CATEGORY\", \"PRODUCT_NAME\", \"STOCK_LEVEL\"]\n",
        "for label in labels:\n",
        "    ner.add_label(label)\n",
        "\n",
        "# Load your training data\n",
        "with open(\"newFormat.json\", \"r\") as f:\n",
        "    TRAIN_DATA = json.load(f)\n",
        "\n",
        "# Prepare the training data for spaCy\n",
        "train_examples = []\n",
        "# Iterate through the training data, assuming it's a list of lists\n",
        "for entry in TRAIN_DATA:\n",
        "    # Access data by index if it is a list of lists, example:\n",
        "    text = entry[0]  # Text is assumed to be the first element\n",
        "    annotations = entry[1]  # Annotations are assumed to be the second element\n",
        "\n",
        "    # If your data structure is different, adjust the indices accordingly\n",
        "    # For example, if 'text' and 'annotations' are keys in a dictionary within the list,\n",
        "    # you would use:\n",
        "    # text = entry['text']\n",
        "    # annotations = entry['annotations']\n",
        "\n",
        "    doc = nlp.make_doc(text)  # Create a Doc object\n",
        "    try:\n",
        "        example = Example.from_dict(doc, annotations)\n",
        "        train_examples.append(example)\n",
        "    except ValueError as e:\n",
        "        print(f\"Skipping example: {text} due to error: {e}\")\n",
        "\n",
        "# Step 1: Initialize the pipeline before training\n",
        "nlp.initialize()\n",
        "\n",
        "# Step 2: Start the training loop (30 epochs)\n",
        "for epoch in range(30):\n",
        "    print(f\"Epoch {epoch + 1}\")\n",
        "    random.shuffle(train_examples)  # Shuffle the training data\n",
        "    losses = {}\n",
        "\n",
        "    # Step 3: Batch the examples and update the model\n",
        "    for batch in minibatch(train_examples, size=8):  # Adjust batch size as needed\n",
        "        nlp.update(batch, drop=0.5, losses=losses)  # Dropout for regularization\n",
        "\n",
        "    print(f\"Losses: {losses}\")\n",
        "\n",
        "# Step 4: Save the trained model\n",
        "nlp.to_disk(\"trained_spacy_model_with_all_entities2\")\n",
        "print(\"Model trained and saved successfully!\")"
      ],
      "metadata": {
        "colab": {
          "base_uri": "https://localhost:8080/"
        },
        "id": "-ka1P9jcezHh",
        "outputId": "a33cc74e-de56-4188-cbd4-a9b597881c1c"
      },
      "execution_count": 23,
      "outputs": [
        {
          "output_type": "stream",
          "name": "stdout",
          "text": [
            "Epoch 1\n",
            "Losses: {'ner': 1391.2725388257002}\n",
            "Epoch 2\n",
            "Losses: {'ner': 373.2854748728338}\n",
            "Epoch 3\n",
            "Losses: {'ner': 90.74356207398945}\n",
            "Epoch 4\n",
            "Losses: {'ner': 43.92244278994606}\n",
            "Epoch 5\n",
            "Losses: {'ner': 28.706541877106254}\n",
            "Epoch 6\n",
            "Losses: {'ner': 21.34786547955789}\n",
            "Epoch 7\n",
            "Losses: {'ner': 27.606747138059216}\n",
            "Epoch 8\n",
            "Losses: {'ner': 22.3009180780196}\n",
            "Epoch 9\n",
            "Losses: {'ner': 10.805384086360558}\n",
            "Epoch 10\n",
            "Losses: {'ner': 21.162404676905332}\n",
            "Epoch 11\n",
            "Losses: {'ner': 15.324067428359406}\n",
            "Epoch 12\n",
            "Losses: {'ner': 9.671038264174083}\n",
            "Epoch 13\n",
            "Losses: {'ner': 16.89879074162068}\n",
            "Epoch 14\n",
            "Losses: {'ner': 25.578093557469135}\n",
            "Epoch 15\n",
            "Losses: {'ner': 26.348526723489467}\n",
            "Epoch 16\n",
            "Losses: {'ner': 14.083555447958847}\n",
            "Epoch 17\n",
            "Losses: {'ner': 20.908121236687652}\n",
            "Epoch 18\n",
            "Losses: {'ner': 28.92465559709868}\n",
            "Epoch 19\n",
            "Losses: {'ner': 22.409981583203784}\n",
            "Epoch 20\n",
            "Losses: {'ner': 9.277391248251057}\n",
            "Epoch 21\n",
            "Losses: {'ner': 13.51852037892904}\n",
            "Epoch 22\n",
            "Losses: {'ner': 19.55675017315914}\n",
            "Epoch 23\n",
            "Losses: {'ner': 17.380497791423366}\n",
            "Epoch 24\n",
            "Losses: {'ner': 16.37756147692935}\n",
            "Epoch 25\n",
            "Losses: {'ner': 10.680666822996086}\n",
            "Epoch 26\n",
            "Losses: {'ner': 16.28940070600901}\n",
            "Epoch 27\n",
            "Losses: {'ner': 18.671529024695595}\n",
            "Epoch 28\n",
            "Losses: {'ner': 11.322191445729155}\n",
            "Epoch 29\n",
            "Losses: {'ner': 5.5858028577573045}\n",
            "Epoch 30\n",
            "Losses: {'ner': 19.28113051470453}\n",
            "Model trained and saved successfully!\n"
          ]
        }
      ]
    },
    {
      "cell_type": "code",
      "source": [
        "import spacy\n",
        "\n",
        "# Load the fine-tuned model\n",
        "nlp = spacy.load(\"trained_spacy_model_with_all_entities2\")\n",
        "\n",
        "# Test input queries\n",
        "test_queries = [\n",
        "    \"What is the status of order ORD10001?\",\n",
        "    \"Show me all orders for customer Bob Brown.\",\n",
        "    \"What is the stock for the MacBook Pro?\",\n",
        "    \"How many units of Galaxy S25 Ultra in stock?\",\n",
        "    \"Can you show me all orders for customer Alice Johnson with product PS5?\"\n",
        "\n",
        "]\n",
        "\n",
        "# Process each test query\n",
        "for query in test_queries:\n",
        "    doc = nlp(query)  # Process the input with the trained model\n",
        "\n",
        "    print(f\"Input: {query}\")\n",
        "    for ent in doc.ents:  # Print the recognized entities\n",
        "        print(f\"Entity: {ent.text}, Label: {ent.label_}\")\n",
        "    print(\"-\" * 50)  # Separator for clarity between results\n",
        "\n",
        "\n"
      ],
      "metadata": {
        "colab": {
          "base_uri": "https://localhost:8080/"
        },
        "id": "t-3F8fuigiXS",
        "outputId": "1f967d57-bb63-44b9-a75d-a058929c26ee"
      },
      "execution_count": 24,
      "outputs": [
        {
          "output_type": "stream",
          "name": "stdout",
          "text": [
            "Input: What is the status of order ORD10001?\n",
            "--------------------------------------------------\n",
            "Input: Show me all orders for customer Bob Brown.\n",
            "Entity: Bob Brown, Label: CUSTOMER_NAME\n",
            "--------------------------------------------------\n",
            "Input: What is the stock for the MacBook Pro?\n",
            "Entity: MacBook Pro, Label: PRODUCT_NAME\n",
            "--------------------------------------------------\n",
            "Input: How many units of Galaxy S25 Ultra in stock?\n",
            "Entity: Galaxy S25 Ultra, Label: PRODUCT_NAME\n",
            "--------------------------------------------------\n",
            "Input: Can you show me all orders for customer Alice Johnson with product PS5?\n",
            "Entity: Alice Johnson, Label: CUSTOMER_NAME\n",
            "Entity: PS5?, Label: ORDER_NUMBER\n",
            "--------------------------------------------------\n"
          ]
        }
      ]
    },
    {
      "cell_type": "markdown",
      "source": [
        "# **Combined the model**"
      ],
      "metadata": {
        "id": "bl8yPMj-yHoS"
      }
    },
    {
      "cell_type": "code",
      "source": [],
      "metadata": {
        "id": "CV48bVDEyN1R"
      },
      "execution_count": 9,
      "outputs": []
    },
    {
      "cell_type": "code",
      "source": [
        "import spacy\n",
        "\n",
        "# Load the fine-tuned model\n",
        "nlp = spacy.load(\"fine_tuned_order_model\")  # Ensure this matches the path where your model is saved\n",
        "\n",
        "# Test input queries\n",
        "test_inputs = [\n",
        "    \"What is the status of order ORD10001?\",\n",
        "    \"Show me all orders for customer Bob Brown.\",\n",
        "    \"List all products in the Gaming category.\",\n",
        "    \"How many Galaxy S25 in the stock?\",\n",
        "    \"How many units of iPhone 12 in stock?\",\n",
        "    \"What orders were placed in the last month?\",\n",
        "    \"Can you show all orders for customer Bob Brown with the product Galaxy S25?\",\n",
        "    \"How many Samsung TVs and Apple Watches do we have in stock?\",\n",
        "    \"How many Electronics products are in stock?\"\n",
        "]\n",
        "\n",
        "# Process each test input and extract recognized entities\n",
        "for test_input in test_inputs:\n",
        "    doc = nlp(test_input)  # Process the input with the fine-tuned model\n",
        "\n",
        "    print(f\"Input: {test_input}\")\n",
        "\n",
        "    # Print out the recognized entities\n",
        "    for ent in doc.ents:\n",
        "        print(f\"Entity: {ent.text}, Label: {ent.label_}\")\n",
        "\n",
        "    # Add a separator for clarity\n",
        "    print(\"-\" * 50)  # Separator between results\n"
      ],
      "metadata": {
        "colab": {
          "base_uri": "https://localhost:8080/"
        },
        "id": "KT5fXFlM1a5R",
        "outputId": "93e2f595-e1d3-414a-a113-0d0680a2edb6"
      },
      "execution_count": 2,
      "outputs": [
        {
          "output_type": "stream",
          "name": "stdout",
          "text": [
            "Input: What is the status of order ORD10001?\n",
            "--------------------------------------------------\n",
            "Input: Show me all orders for customer Bob Brown.\n",
            "--------------------------------------------------\n",
            "Input: List all products in the Gaming category.\n",
            "--------------------------------------------------\n",
            "Input: How many Galaxy S25 in the stock?\n",
            "--------------------------------------------------\n",
            "Input: How many units of iPhone 12 in stock?\n",
            "--------------------------------------------------\n",
            "Input: What orders were placed in the last month?\n",
            "--------------------------------------------------\n",
            "Input: Can you show all orders for customer Bob Brown with the product Galaxy S25?\n",
            "--------------------------------------------------\n",
            "Input: How many Samsung TVs and Apple Watches do we have in stock?\n",
            "--------------------------------------------------\n",
            "Input: How many Electronics products are in stock?\n",
            "--------------------------------------------------\n"
          ]
        }
      ]
    }
  ]
}